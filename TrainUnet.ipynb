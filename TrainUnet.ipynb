{
  "nbformat": 4,
  "nbformat_minor": 0,
  "metadata": {
    "colab": {
      "name": "pytorch-unet-resnet18-colab.ipynb",
      "provenance": [],
      "include_colab_link": true
    },
    "kernelspec": {
      "name": "python3",
      "display_name": "Python 3"
    },
    "accelerator": "GPU"
  },
  "cells": [
    {
      "cell_type": "markdown",
      "metadata": {
        "id": "view-in-github",
        "colab_type": "text"
      },
      "source": [
        "<a href=\"https://colab.research.google.com/github/Sescallupe/IAC_2022/blob/main/TrainUnet.ipynb\" target=\"_parent\"><img src=\"https://colab.research.google.com/assets/colab-badge.svg\" alt=\"Open In Colab\"/></a>"
      ]
    },
    {
      "cell_type": "markdown",
      "metadata": {
        "id": "4lcY1ziTLblo"
      },
      "source": [
        "## pytorch-uent\n",
        "\n",
        "https://github.com/usuyama/pytorch-unet"
      ]
    },
    {
      "cell_type": "code",
      "metadata": {
        "id": "yUvckFGU-4HE",
        "colab": {
          "base_uri": "https://localhost:8080/"
        },
        "outputId": "9c5d2e65-eec2-4bc9-8bc4-893e59353510"
      },
      "source": [
        "import os\n",
        "\n",
        "if not os.path.exists(\"pytorch_unet.py\"):\n",
        "  if not os.path.exists(\"pytorch_unet\"):\n",
        "    !git clone https://github.com/usuyama/pytorch-unet.git\n",
        "\n",
        "  %cd pytorch-unet"
      ],
      "execution_count": 1,
      "outputs": [
        {
          "output_type": "stream",
          "name": "stdout",
          "text": [
            "Cloning into 'pytorch-unet'...\n",
            "remote: Enumerating objects: 67, done.\u001b[K\n",
            "remote: Counting objects: 100% (12/12), done.\u001b[K\n",
            "remote: Compressing objects: 100% (7/7), done.\u001b[K\n",
            "remote: Total 67 (delta 6), reused 10 (delta 5), pack-reused 55\u001b[K\n",
            "Unpacking objects: 100% (67/67), done.\n",
            "/content/pytorch-unet\n"
          ]
        }
      ]
    },
    {
      "cell_type": "code",
      "metadata": {
        "id": "EAx84Zg1_RnV",
        "colab": {
          "base_uri": "https://localhost:8080/"
        },
        "outputId": "10f75c53-a152-4016-aee3-16b3e243dd51"
      },
      "source": [
        "!ls"
      ],
      "execution_count": 2,
      "outputs": [
        {
          "output_type": "stream",
          "name": "stdout",
          "text": [
            "helper.py  pytorch_fcn.ipynb\t\tpytorch_unet_resnet18_colab.ipynb\n",
            "images\t   pytorch_resnet18_unet.ipynb\tREADME.md\n",
            "LICENSE    pytorch_unet.ipynb\t\tsimulation.py\n",
            "loss.py    pytorch_unet.py\n"
          ]
        }
      ]
    },
    {
      "cell_type": "markdown",
      "metadata": {
        "id": "N90-BlegJZfs"
      },
      "source": [
        "## Enabling GPU on Colab\n",
        "\n",
        "Need to enable GPU from Notebook settings\n",
        "\n",
        "- Navigate to Edit-Notebook settings menu\n",
        "- Select GPU from the Hardware Accelerator dropdown list\n"
      ]
    },
    {
      "cell_type": "code",
      "metadata": {
        "id": "HCitpQdkJNdI",
        "colab": {
          "base_uri": "https://localhost:8080/"
        },
        "outputId": "7d75e56f-c3a9-4151-f3a6-bd409ef51d54"
      },
      "source": [
        "import torch\n",
        "\n",
        "if not torch.cuda.is_available():\n",
        "  raise Exception(\"GPU not availalbe. CPU training will be too slow.\")\n",
        "\n",
        "print(\"device name\", torch.cuda.get_device_name(0))"
      ],
      "execution_count": 3,
      "outputs": [
        {
          "output_type": "stream",
          "name": "stdout",
          "text": [
            "device name Tesla T4\n"
          ]
        }
      ]
    },
    {
      "cell_type": "code",
      "source": [
        "from google.colab import drive\n",
        "drive.mount('/content/drive')"
      ],
      "metadata": {
        "id": "hv1DKUHWEmCv",
        "outputId": "959eb8f7-a3a3-4340-bd99-3eda3bc52ae1",
        "colab": {
          "base_uri": "https://localhost:8080/"
        }
      },
      "execution_count": 4,
      "outputs": [
        {
          "output_type": "stream",
          "name": "stdout",
          "text": [
            "Mounted at /content/drive\n"
          ]
        }
      ]
    },
    {
      "cell_type": "code",
      "source": [
        "import cv2\n",
        "import os\n",
        "import numpy as np\n",
        "import torch\n",
        "import matplotlib.pyplot as plt\n",
        "import numpy as np\n",
        "import helper\n",
        "import simulation\n"
      ],
      "metadata": {
        "id": "vL5G2GF4FAfp"
      },
      "execution_count": 14,
      "outputs": []
    },
    {
      "cell_type": "markdown",
      "source": [],
      "metadata": {
        "id": "Km4X_cK0Efks"
      }
    },
    {
      "cell_type": "code",
      "source": [
        "#train\n",
        "ruta_train = \"/content/drive/MyDrive/Piura_SAR/Study/Image\"\n",
        "ruta_mask_train = \"/content/drive/MyDrive/Piura_SAR/Study/Mask\" "
      ],
      "metadata": {
        "id": "0hgmroA_Ef1R"
      },
      "execution_count": 5,
      "outputs": []
    },
    {
      "cell_type": "code",
      "source": [
        "#Arreglos de almacenamiento\n",
        "data_train = []\n",
        "rutas_train = []\n",
        "\n",
        "data_mask_train = []\n",
        "rutas_mask_train = []\n",
        "\n",
        "#tamaño que daremos a las imágenes\n",
        "img_size = 192\n",
        "\n",
        "#rutas ordenadas\n",
        "for ruta in os.listdir(ruta_train):\n",
        "  rutas_train.append(ruta)\n",
        "rutas_train = sorted(rutas_train)\n",
        "\n",
        "#Extraemos imágenes\n",
        "for img in rutas_train:\n",
        "  img = cv2.imread(os.path.join(ruta_train,img))\n",
        "  img_resize = cv2.resize(img,(img_size,img_size))\n",
        "  data_train.append([img_resize])\n",
        "data_train = np.array(data_train)\n",
        "Images_train = np.squeeze(np.array(data_train)) \n",
        "print(Images_train.shape)\n",
        "\n",
        "#rutas ordenadas\n",
        "for ruta in os.listdir(ruta_mask_train):\n",
        "  rutas_mask_train.append(ruta)\n",
        "rutas_mask_train = sorted(rutas_mask_train)\n",
        "\n",
        "# Creamos arreglos de mascaras\n",
        "for img in rutas_mask_train:\n",
        "  img = cv2.imread(os.path.join(ruta_mask_train,img))\n",
        "  img = cv2.resize(img,(img_size,img_size))\n",
        "  img = cv2.cvtColor(img, cv2.COLOR_BGR2GRAY)\n",
        "  ret,img = cv2.threshold(img,127,255,cv2.THRESH_BINARY)\n",
        "  np_array = np.array(img)/255\n",
        "  #idx = np.where(np_array != 0)\n",
        "  #for i in idx:\n",
        "    #np_array[i] = 1 \n",
        "  mask_oh = (np.arange(2) == np_array[...,None]).astype(np.float32) \n",
        "  data_mask_train.append([mask_oh])\n",
        "  #data_mask_train.append([img])\n",
        "data_mask_train = np.array(data_mask_train)\n",
        "Images_mask_train = np.squeeze(np.array(data_mask_train))\n",
        "#Images_mask_train = np.expand_dims(Images_mask_train, axis=-1)\n",
        "print(Images_mask_train.shape)"
      ],
      "metadata": {
        "id": "_S_4fBCvEhtw",
        "outputId": "5e01f8b0-33ef-427f-a63b-058d5937dc83",
        "colab": {
          "base_uri": "https://localhost:8080/"
        }
      },
      "execution_count": 53,
      "outputs": [
        {
          "output_type": "stream",
          "name": "stdout",
          "text": [
            "(42, 192, 192, 3)\n",
            "(42, 192, 192, 2)\n"
          ]
        }
      ]
    },
    {
      "cell_type": "code",
      "source": [
        "traget_masks=torch.tensor(Images_mask_train).permute(0,3,1,2)"
      ],
      "metadata": {
        "id": "gb5QD_rvGqst"
      },
      "execution_count": 54,
      "outputs": []
    },
    {
      "cell_type": "markdown",
      "metadata": {
        "id": "v8nZ6_mKMsJs"
      },
      "source": [
        "## Synthetic images for demo training"
      ]
    },
    {
      "cell_type": "code",
      "metadata": {
        "id": "6qt0VHVZ_53z",
        "colab": {
          "base_uri": "https://localhost:8080/",
          "height": 51
        },
        "outputId": "f065f339-e427-4778-dcb6-9ce047f1958b"
      },
      "source": [
        "\n",
        "# Generate some random images\n",
        "input_images, target_masks = simulation.generate_random_data(192, 192, count=3)\n",
        "\n",
        "print(\"input_images shape and range\", input_images.shape, input_images.min(), input_images.max())\n",
        "print(\"target_masks shape and range\", target_masks.shape, target_masks.min(), target_masks.max())\n",
        "\n",
        "# Change channel-order and make 3 channels for matplot\n",
        "input_images_rgb = [x.astype(np.uint8) for x in input_images]\n",
        "\n",
        "# Map each channel (i.e. class) to each color\n",
        "target_masks_rgb = [helper.masks_to_colorimg(x) for x in target_masks]"
      ],
      "execution_count": null,
      "outputs": [
        {
          "output_type": "stream",
          "text": [
            "input_images shape and range (3, 192, 192, 3) 0 255\n",
            "target_masks shape and range (3, 6, 192, 192) 0.0 1.0\n"
          ],
          "name": "stdout"
        }
      ]
    },
    {
      "cell_type": "markdown",
      "metadata": {
        "id": "t16ni593BSUE"
      },
      "source": [
        "# Left: Input image (black and white), Right: Target mask (6ch)"
      ]
    },
    {
      "cell_type": "code",
      "metadata": {
        "id": "Dzjh6C1HBTCb",
        "colab": {
          "base_uri": "https://localhost:8080/",
          "height": 704
        },
        "outputId": "b97c977d-15eb-4fc5-8e8e-8e1b38f94712"
      },
      "source": [
        "helper.plot_side_by_side([input_images_rgb, target_masks_rgb])"
      ],
      "execution_count": null,
      "outputs": [
        {
          "output_type": "display_data",
          "data": {
            "image/png": "[encoded data removed]",
            "text/plain": [
              "<Figure size 576x864 with 6 Axes>"
            ]
          },
          "metadata": {
            "tags": [],
            "needs_background": "light"
          }
        }
      ]
    },
    {
      "cell_type": "markdown",
      "metadata": {
        "id": "Qg2FqLRGBEJT"
      },
      "source": [
        "## Prepare Dataset and DataLoader"
      ]
    },
    {
      "cell_type": "code",
      "metadata": {
        "id": "_-UTr03eAROb"
      },
      "source": [
        "from torch.utils.data import Dataset, DataLoader\n",
        "from torchvision import transforms, datasets, models\n",
        "\n",
        "class SimDataset(Dataset):\n",
        "  def __init__(self,Image,Mask, transform=None):\n",
        "    self.input_images =Image\n",
        "    self.target_masks = Mask\n",
        "    self.transform = transform\n",
        "\n",
        "  def __len__(self):\n",
        "    return len(self.input_images)\n",
        "\n",
        "  def __getitem__(self, idx):\n",
        "    image = self.input_images[idx]\n",
        "    mask = self.target_masks[idx]\n",
        "    if self.transform:\n",
        "      image = self.transform(image)\n",
        "\n",
        "    return [image, mask]\n",
        "\n",
        "# use the same transformations for train/val in this example\n",
        "trans = transforms.Compose([\n",
        "  transforms.ToTensor(),\n",
        "  transforms.Normalize([0.485, 0.456, 0.406], [0.229, 0.224, 0.225]) # imagenet\n",
        "])\n",
        "Ran=np.random.uniform(0, 1, len(traget_masks)) <= 0.7\n",
        "TrainMask=traget_masks[Ran,:,:,:]\n",
        "TrainImg=Images_train[Ran,:,:,:]\n",
        "ValidMask=traget_masks[~Ran,:,:,:]\n",
        "ValidImg=Images_train[~Ran,:,:,:]\n",
        "\n",
        "train_set = SimDataset(TrainImg,TrainMask, transform = trans)\n",
        "val_set = SimDataset(ValidImg,ValidMask, transform = trans)\n",
        "\n",
        "image_datasets = {\n",
        "  'train': train_set, 'val': val_set\n",
        "}\n",
        "\n",
        "batch_size = 25\n",
        "\n",
        "dataloaders = {\n",
        "  'train': DataLoader(train_set, batch_size=batch_size, shuffle=True, num_workers=0),\n",
        "  'val': DataLoader(val_set, batch_size=batch_size, shuffle=True, num_workers=0)\n",
        "}"
      ],
      "execution_count": 55,
      "outputs": []
    },
    {
      "cell_type": "markdown",
      "metadata": {
        "id": "BtkJTyxGB-XB"
      },
      "source": [
        "## Check the outputs from DataLoader"
      ]
    },
    {
      "cell_type": "code",
      "metadata": {
        "id": "CRIOwoQvBKPm",
        "colab": {
          "base_uri": "https://localhost:8080/",
          "height": 304
        },
        "outputId": "5df87801-a515-48b1-9e7a-eeb2f5346e32"
      },
      "source": [
        "import torchvision.utils\n",
        "\n",
        "def reverse_transform(inp):\n",
        "  inp = inp.numpy().transpose((1, 2, 0))\n",
        "  mean = np.array([0.485, 0.456, 0.406])\n",
        "  std = np.array([0.229, 0.224, 0.225])\n",
        "  inp = std * inp + mean\n",
        "  inp = np.clip(inp, 0, 1)\n",
        "  inp = (inp * 255).astype(np.uint8)\n",
        "\n",
        "  return inp\n",
        "\n",
        "# Get a batch of training data\n",
        "inputs, masks = next(iter(dataloaders['train']))\n",
        "\n",
        "print(inputs.shape, masks.shape)\n",
        "\n",
        "plt.imshow(reverse_transform(inputs[3]))"
      ],
      "execution_count": 56,
      "outputs": [
        {
          "output_type": "stream",
          "name": "stdout",
          "text": [
            "torch.Size([25, 3, 192, 192]) torch.Size([25, 2, 192, 192])\n"
          ]
        },
        {
          "output_type": "execute_result",
          "data": {
            "text/plain": [
              "<matplotlib.image.AxesImage at 0x7fb97614ec90>"
            ]
          },
          "metadata": {},
          "execution_count": 56
        },
        {
          "output_type": "display_data",
          "data": {
            "text/plain": [
              "<Figure size 432x288 with 1 Axes>"
            ],
            "image/png": "[encoded data removed]"
          },
          "metadata": {
            "needs_background": "light"
          }
        }
      ]
    },
    {
      "cell_type": "markdown",
      "metadata": {
        "id": "E7XRZIKtCN8E"
      },
      "source": [
        "# Define a UNet module"
      ]
    },
    {
      "cell_type": "code",
      "metadata": {
        "id": "b8EJl0hcC5DH"
      },
      "source": [
        "import torch.nn as nn\n",
        "import torchvision.models\n",
        "\n",
        "\n",
        "def convrelu(in_channels, out_channels, kernel, padding):\n",
        "  return nn.Sequential(\n",
        "    nn.Conv2d(in_channels, out_channels, kernel, padding=padding),\n",
        "    nn.ReLU(inplace=True),\n",
        "  )\n",
        "\n",
        "\n",
        "class ResNetUNet(nn.Module):\n",
        "  def __init__(self, n_class):\n",
        "    super().__init__()\n",
        "\n",
        "    self.base_model = torchvision.models.resnet18(pretrained=True)\n",
        "    self.base_layers = list(self.base_model.children())\n",
        "\n",
        "    self.layer0 = nn.Sequential(*self.base_layers[:3]) # size=(N, 64, x.H/2, x.W/2)\n",
        "    self.layer0_1x1 = convrelu(64, 64, 1, 0)\n",
        "    self.layer1 = nn.Sequential(*self.base_layers[3:5]) # size=(N, 64, x.H/4, x.W/4)\n",
        "    self.layer1_1x1 = convrelu(64, 64, 1, 0)\n",
        "    self.layer2 = self.base_layers[5]  # size=(N, 128, x.H/8, x.W/8)\n",
        "    self.layer2_1x1 = convrelu(128, 128, 1, 0)\n",
        "    self.layer3 = self.base_layers[6]  # size=(N, 256, x.H/16, x.W/16)\n",
        "    self.layer3_1x1 = convrelu(256, 256, 1, 0)\n",
        "    self.layer4 = self.base_layers[7]  # size=(N, 512, x.H/32, x.W/32)\n",
        "    self.layer4_1x1 = convrelu(512, 512, 1, 0)\n",
        "\n",
        "    self.upsample = nn.Upsample(scale_factor=2, mode='bilinear', align_corners=True)\n",
        "\n",
        "    self.conv_up3 = convrelu(256 + 512, 512, 3, 1)\n",
        "    self.conv_up2 = convrelu(128 + 512, 256, 3, 1)\n",
        "    self.conv_up1 = convrelu(64 + 256, 256, 3, 1)\n",
        "    self.conv_up0 = convrelu(64 + 256, 128, 3, 1)\n",
        "\n",
        "    self.conv_original_size0 = convrelu(3, 64, 3, 1)\n",
        "    self.conv_original_size1 = convrelu(64, 64, 3, 1)\n",
        "    self.conv_original_size2 = convrelu(64 + 128, 64, 3, 1)\n",
        "\n",
        "    self.conv_last = nn.Conv2d(64, n_class, 1)\n",
        "\n",
        "  def forward(self, input):\n",
        "    x_original = self.conv_original_size0(input)\n",
        "    x_original = self.conv_original_size1(x_original)\n",
        "\n",
        "    layer0 = self.layer0(input)\n",
        "    layer1 = self.layer1(layer0)\n",
        "    layer2 = self.layer2(layer1)\n",
        "    layer3 = self.layer3(layer2)\n",
        "    layer4 = self.layer4(layer3)\n",
        "\n",
        "    layer4 = self.layer4_1x1(layer4)\n",
        "    x = self.upsample(layer4)\n",
        "    layer3 = self.layer3_1x1(layer3)\n",
        "    x = torch.cat([x, layer3], dim=1)\n",
        "    x = self.conv_up3(x)\n",
        "\n",
        "    x = self.upsample(x)\n",
        "    layer2 = self.layer2_1x1(layer2)\n",
        "    x = torch.cat([x, layer2], dim=1)\n",
        "    x = self.conv_up2(x)\n",
        "\n",
        "    x = self.upsample(x)\n",
        "    layer1 = self.layer1_1x1(layer1)\n",
        "    x = torch.cat([x, layer1], dim=1)\n",
        "    x = self.conv_up1(x)\n",
        "\n",
        "    x = self.upsample(x)\n",
        "    layer0 = self.layer0_1x1(layer0)\n",
        "    x = torch.cat([x, layer0], dim=1)\n",
        "    x = self.conv_up0(x)\n",
        "\n",
        "    x = self.upsample(x)\n",
        "    x = torch.cat([x, x_original], dim=1)\n",
        "    x = self.conv_original_size2(x)\n",
        "\n",
        "    out = self.conv_last(x)\n",
        "\n",
        "    return out"
      ],
      "execution_count": 57,
      "outputs": []
    },
    {
      "cell_type": "markdown",
      "metadata": {
        "id": "gJ65Br1oDCOX"
      },
      "source": [
        "## Instantiate the UNet model\n",
        "\n",
        "- Move the model to GPU if available\n",
        "- Show model summaries"
      ]
    },
    {
      "cell_type": "code",
      "metadata": {
        "id": "bY0Vk2VDCAiz",
        "colab": {
          "base_uri": "https://localhost:8080/"
        },
        "outputId": "8079caf9-234e-4bbe-b443-d20e9ec7304a"
      },
      "source": [
        "import torch\n",
        "import torch.nn as nn\n",
        "import pytorch_unet\n",
        "\n",
        "device = torch.device('cuda' if torch.cuda.is_available() else 'cpu')\n",
        "print('device', device)\n",
        "\n",
        "model = ResNetUNet(2)\n",
        "model = model.to(device)"
      ],
      "execution_count": 58,
      "outputs": [
        {
          "output_type": "stream",
          "name": "stdout",
          "text": [
            "device cuda\n"
          ]
        }
      ]
    },
    {
      "cell_type": "code",
      "metadata": {
        "id": "RaZdFgOnGA_p",
        "colab": {
          "base_uri": "https://localhost:8080/"
        },
        "outputId": "01241942-b69f-4386-f010-f880dcf66f8b"
      },
      "source": [
        "model"
      ],
      "execution_count": 59,
      "outputs": [
        {
          "output_type": "execute_result",
          "data": {
            "text/plain": [
              "ResNetUNet(\n",
              "  (base_model): ResNet(\n",
              "    (conv1): Conv2d(3, 64, kernel_size=(7, 7), stride=(2, 2), padding=(3, 3), bias=False)\n",
              "    (bn1): BatchNorm2d(64, eps=1e-05, momentum=0.1, affine=True, track_running_stats=True)\n",
              "    (relu): ReLU(inplace=True)\n",
              "    (maxpool): MaxPool2d(kernel_size=3, stride=2, padding=1, dilation=1, ceil_mode=False)\n",
              "    (layer1): Sequential(\n",
              "      (0): BasicBlock(\n",
              "        (conv1): Conv2d(64, 64, kernel_size=(3, 3), stride=(1, 1), padding=(1, 1), bias=False)\n",
              "        (bn1): BatchNorm2d(64, eps=1e-05, momentum=0.1, affine=True, track_running_stats=True)\n",
              "        (relu): ReLU(inplace=True)\n",
              "        (conv2): Conv2d(64, 64, kernel_size=(3, 3), stride=(1, 1), padding=(1, 1), bias=False)\n",
              "        (bn2): BatchNorm2d(64, eps=1e-05, momentum=0.1, affine=True, track_running_stats=True)\n",
              "      )\n",
              "      (1): BasicBlock(\n",
              "        (conv1): Conv2d(64, 64, kernel_size=(3, 3), stride=(1, 1), padding=(1, 1), bias=False)\n",
              "        (bn1): BatchNorm2d(64, eps=1e-05, momentum=0.1, affine=True, track_running_stats=True)\n",
              "        (relu): ReLU(inplace=True)\n",
              "        (conv2): Conv2d(64, 64, kernel_size=(3, 3), stride=(1, 1), padding=(1, 1), bias=False)\n",
              "        (bn2): BatchNorm2d(64, eps=1e-05, momentum=0.1, affine=True, track_running_stats=True)\n",
              "      )\n",
              "    )\n",
              "    (layer2): Sequential(\n",
              "      (0): BasicBlock(\n",
              "        (conv1): Conv2d(64, 128, kernel_size=(3, 3), stride=(2, 2), padding=(1, 1), bias=False)\n",
              "        (bn1): BatchNorm2d(128, eps=1e-05, momentum=0.1, affine=True, track_running_stats=True)\n",
              "        (relu): ReLU(inplace=True)\n",
              "        (conv2): Conv2d(128, 128, kernel_size=(3, 3), stride=(1, 1), padding=(1, 1), bias=False)\n",
              "        (bn2): BatchNorm2d(128, eps=1e-05, momentum=0.1, affine=True, track_running_stats=True)\n",
              "        (downsample): Sequential(\n",
              "          (0): Conv2d(64, 128, kernel_size=(1, 1), stride=(2, 2), bias=False)\n",
              "          (1): BatchNorm2d(128, eps=1e-05, momentum=0.1, affine=True, track_running_stats=True)\n",
              "        )\n",
              "      )\n",
              "      (1): BasicBlock(\n",
              "        (conv1): Conv2d(128, 128, kernel_size=(3, 3), stride=(1, 1), padding=(1, 1), bias=False)\n",
              "        (bn1): BatchNorm2d(128, eps=1e-05, momentum=0.1, affine=True, track_running_stats=True)\n",
              "        (relu): ReLU(inplace=True)\n",
              "        (conv2): Conv2d(128, 128, kernel_size=(3, 3), stride=(1, 1), padding=(1, 1), bias=False)\n",
              "        (bn2): BatchNorm2d(128, eps=1e-05, momentum=0.1, affine=True, track_running_stats=True)\n",
              "      )\n",
              "    )\n",
              "    (layer3): Sequential(\n",
              "      (0): BasicBlock(\n",
              "        (conv1): Conv2d(128, 256, kernel_size=(3, 3), stride=(2, 2), padding=(1, 1), bias=False)\n",
              "        (bn1): BatchNorm2d(256, eps=1e-05, momentum=0.1, affine=True, track_running_stats=True)\n",
              "        (relu): ReLU(inplace=True)\n",
              "        (conv2): Conv2d(256, 256, kernel_size=(3, 3), stride=(1, 1), padding=(1, 1), bias=False)\n",
              "        (bn2): BatchNorm2d(256, eps=1e-05, momentum=0.1, affine=True, track_running_stats=True)\n",
              "        (downsample): Sequential(\n",
              "          (0): Conv2d(128, 256, kernel_size=(1, 1), stride=(2, 2), bias=False)\n",
              "          (1): BatchNorm2d(256, eps=1e-05, momentum=0.1, affine=True, track_running_stats=True)\n",
              "        )\n",
              "      )\n",
              "      (1): BasicBlock(\n",
              "        (conv1): Conv2d(256, 256, kernel_size=(3, 3), stride=(1, 1), padding=(1, 1), bias=False)\n",
              "        (bn1): BatchNorm2d(256, eps=1e-05, momentum=0.1, affine=True, track_running_stats=True)\n",
              "        (relu): ReLU(inplace=True)\n",
              "        (conv2): Conv2d(256, 256, kernel_size=(3, 3), stride=(1, 1), padding=(1, 1), bias=False)\n",
              "        (bn2): BatchNorm2d(256, eps=1e-05, momentum=0.1, affine=True, track_running_stats=True)\n",
              "      )\n",
              "    )\n",
              "    (layer4): Sequential(\n",
              "      (0): BasicBlock(\n",
              "        (conv1): Conv2d(256, 512, kernel_size=(3, 3), stride=(2, 2), padding=(1, 1), bias=False)\n",
              "        (bn1): BatchNorm2d(512, eps=1e-05, momentum=0.1, affine=True, track_running_stats=True)\n",
              "        (relu): ReLU(inplace=True)\n",
              "        (conv2): Conv2d(512, 512, kernel_size=(3, 3), stride=(1, 1), padding=(1, 1), bias=False)\n",
              "        (bn2): BatchNorm2d(512, eps=1e-05, momentum=0.1, affine=True, track_running_stats=True)\n",
              "        (downsample): Sequential(\n",
              "          (0): Conv2d(256, 512, kernel_size=(1, 1), stride=(2, 2), bias=False)\n",
              "          (1): BatchNorm2d(512, eps=1e-05, momentum=0.1, affine=True, track_running_stats=True)\n",
              "        )\n",
              "      )\n",
              "      (1): BasicBlock(\n",
              "        (conv1): Conv2d(512, 512, kernel_size=(3, 3), stride=(1, 1), padding=(1, 1), bias=False)\n",
              "        (bn1): BatchNorm2d(512, eps=1e-05, momentum=0.1, affine=True, track_running_stats=True)\n",
              "        (relu): ReLU(inplace=True)\n",
              "        (conv2): Conv2d(512, 512, kernel_size=(3, 3), stride=(1, 1), padding=(1, 1), bias=False)\n",
              "        (bn2): BatchNorm2d(512, eps=1e-05, momentum=0.1, affine=True, track_running_stats=True)\n",
              "      )\n",
              "    )\n",
              "    (avgpool): AdaptiveAvgPool2d(output_size=(1, 1))\n",
              "    (fc): Linear(in_features=512, out_features=1000, bias=True)\n",
              "  )\n",
              "  (layer0): Sequential(\n",
              "    (0): Conv2d(3, 64, kernel_size=(7, 7), stride=(2, 2), padding=(3, 3), bias=False)\n",
              "    (1): BatchNorm2d(64, eps=1e-05, momentum=0.1, affine=True, track_running_stats=True)\n",
              "    (2): ReLU(inplace=True)\n",
              "  )\n",
              "  (layer0_1x1): Sequential(\n",
              "    (0): Conv2d(64, 64, kernel_size=(1, 1), stride=(1, 1))\n",
              "    (1): ReLU(inplace=True)\n",
              "  )\n",
              "  (layer1): Sequential(\n",
              "    (0): MaxPool2d(kernel_size=3, stride=2, padding=1, dilation=1, ceil_mode=False)\n",
              "    (1): Sequential(\n",
              "      (0): BasicBlock(\n",
              "        (conv1): Conv2d(64, 64, kernel_size=(3, 3), stride=(1, 1), padding=(1, 1), bias=False)\n",
              "        (bn1): BatchNorm2d(64, eps=1e-05, momentum=0.1, affine=True, track_running_stats=True)\n",
              "        (relu): ReLU(inplace=True)\n",
              "        (conv2): Conv2d(64, 64, kernel_size=(3, 3), stride=(1, 1), padding=(1, 1), bias=False)\n",
              "        (bn2): BatchNorm2d(64, eps=1e-05, momentum=0.1, affine=True, track_running_stats=True)\n",
              "      )\n",
              "      (1): BasicBlock(\n",
              "        (conv1): Conv2d(64, 64, kernel_size=(3, 3), stride=(1, 1), padding=(1, 1), bias=False)\n",
              "        (bn1): BatchNorm2d(64, eps=1e-05, momentum=0.1, affine=True, track_running_stats=True)\n",
              "        (relu): ReLU(inplace=True)\n",
              "        (conv2): Conv2d(64, 64, kernel_size=(3, 3), stride=(1, 1), padding=(1, 1), bias=False)\n",
              "        (bn2): BatchNorm2d(64, eps=1e-05, momentum=0.1, affine=True, track_running_stats=True)\n",
              "      )\n",
              "    )\n",
              "  )\n",
              "  (layer1_1x1): Sequential(\n",
              "    (0): Conv2d(64, 64, kernel_size=(1, 1), stride=(1, 1))\n",
              "    (1): ReLU(inplace=True)\n",
              "  )\n",
              "  (layer2): Sequential(\n",
              "    (0): BasicBlock(\n",
              "      (conv1): Conv2d(64, 128, kernel_size=(3, 3), stride=(2, 2), padding=(1, 1), bias=False)\n",
              "      (bn1): BatchNorm2d(128, eps=1e-05, momentum=0.1, affine=True, track_running_stats=True)\n",
              "      (relu): ReLU(inplace=True)\n",
              "      (conv2): Conv2d(128, 128, kernel_size=(3, 3), stride=(1, 1), padding=(1, 1), bias=False)\n",
              "      (bn2): BatchNorm2d(128, eps=1e-05, momentum=0.1, affine=True, track_running_stats=True)\n",
              "      (downsample): Sequential(\n",
              "        (0): Conv2d(64, 128, kernel_size=(1, 1), stride=(2, 2), bias=False)\n",
              "        (1): BatchNorm2d(128, eps=1e-05, momentum=0.1, affine=True, track_running_stats=True)\n",
              "      )\n",
              "    )\n",
              "    (1): BasicBlock(\n",
              "      (conv1): Conv2d(128, 128, kernel_size=(3, 3), stride=(1, 1), padding=(1, 1), bias=False)\n",
              "      (bn1): BatchNorm2d(128, eps=1e-05, momentum=0.1, affine=True, track_running_stats=True)\n",
              "      (relu): ReLU(inplace=True)\n",
              "      (conv2): Conv2d(128, 128, kernel_size=(3, 3), stride=(1, 1), padding=(1, 1), bias=False)\n",
              "      (bn2): BatchNorm2d(128, eps=1e-05, momentum=0.1, affine=True, track_running_stats=True)\n",
              "    )\n",
              "  )\n",
              "  (layer2_1x1): Sequential(\n",
              "    (0): Conv2d(128, 128, kernel_size=(1, 1), stride=(1, 1))\n",
              "    (1): ReLU(inplace=True)\n",
              "  )\n",
              "  (layer3): Sequential(\n",
              "    (0): BasicBlock(\n",
              "      (conv1): Conv2d(128, 256, kernel_size=(3, 3), stride=(2, 2), padding=(1, 1), bias=False)\n",
              "      (bn1): BatchNorm2d(256, eps=1e-05, momentum=0.1, affine=True, track_running_stats=True)\n",
              "      (relu): ReLU(inplace=True)\n",
              "      (conv2): Conv2d(256, 256, kernel_size=(3, 3), stride=(1, 1), padding=(1, 1), bias=False)\n",
              "      (bn2): BatchNorm2d(256, eps=1e-05, momentum=0.1, affine=True, track_running_stats=True)\n",
              "      (downsample): Sequential(\n",
              "        (0): Conv2d(128, 256, kernel_size=(1, 1), stride=(2, 2), bias=False)\n",
              "        (1): BatchNorm2d(256, eps=1e-05, momentum=0.1, affine=True, track_running_stats=True)\n",
              "      )\n",
              "    )\n",
              "    (1): BasicBlock(\n",
              "      (conv1): Conv2d(256, 256, kernel_size=(3, 3), stride=(1, 1), padding=(1, 1), bias=False)\n",
              "      (bn1): BatchNorm2d(256, eps=1e-05, momentum=0.1, affine=True, track_running_stats=True)\n",
              "      (relu): ReLU(inplace=True)\n",
              "      (conv2): Conv2d(256, 256, kernel_size=(3, 3), stride=(1, 1), padding=(1, 1), bias=False)\n",
              "      (bn2): BatchNorm2d(256, eps=1e-05, momentum=0.1, affine=True, track_running_stats=True)\n",
              "    )\n",
              "  )\n",
              "  (layer3_1x1): Sequential(\n",
              "    (0): Conv2d(256, 256, kernel_size=(1, 1), stride=(1, 1))\n",
              "    (1): ReLU(inplace=True)\n",
              "  )\n",
              "  (layer4): Sequential(\n",
              "    (0): BasicBlock(\n",
              "      (conv1): Conv2d(256, 512, kernel_size=(3, 3), stride=(2, 2), padding=(1, 1), bias=False)\n",
              "      (bn1): BatchNorm2d(512, eps=1e-05, momentum=0.1, affine=True, track_running_stats=True)\n",
              "      (relu): ReLU(inplace=True)\n",
              "      (conv2): Conv2d(512, 512, kernel_size=(3, 3), stride=(1, 1), padding=(1, 1), bias=False)\n",
              "      (bn2): BatchNorm2d(512, eps=1e-05, momentum=0.1, affine=True, track_running_stats=True)\n",
              "      (downsample): Sequential(\n",
              "        (0): Conv2d(256, 512, kernel_size=(1, 1), stride=(2, 2), bias=False)\n",
              "        (1): BatchNorm2d(512, eps=1e-05, momentum=0.1, affine=True, track_running_stats=True)\n",
              "      )\n",
              "    )\n",
              "    (1): BasicBlock(\n",
              "      (conv1): Conv2d(512, 512, kernel_size=(3, 3), stride=(1, 1), padding=(1, 1), bias=False)\n",
              "      (bn1): BatchNorm2d(512, eps=1e-05, momentum=0.1, affine=True, track_running_stats=True)\n",
              "      (relu): ReLU(inplace=True)\n",
              "      (conv2): Conv2d(512, 512, kernel_size=(3, 3), stride=(1, 1), padding=(1, 1), bias=False)\n",
              "      (bn2): BatchNorm2d(512, eps=1e-05, momentum=0.1, affine=True, track_running_stats=True)\n",
              "    )\n",
              "  )\n",
              "  (layer4_1x1): Sequential(\n",
              "    (0): Conv2d(512, 512, kernel_size=(1, 1), stride=(1, 1))\n",
              "    (1): ReLU(inplace=True)\n",
              "  )\n",
              "  (upsample): Upsample(scale_factor=2.0, mode=bilinear)\n",
              "  (conv_up3): Sequential(\n",
              "    (0): Conv2d(768, 512, kernel_size=(3, 3), stride=(1, 1), padding=(1, 1))\n",
              "    (1): ReLU(inplace=True)\n",
              "  )\n",
              "  (conv_up2): Sequential(\n",
              "    (0): Conv2d(640, 256, kernel_size=(3, 3), stride=(1, 1), padding=(1, 1))\n",
              "    (1): ReLU(inplace=True)\n",
              "  )\n",
              "  (conv_up1): Sequential(\n",
              "    (0): Conv2d(320, 256, kernel_size=(3, 3), stride=(1, 1), padding=(1, 1))\n",
              "    (1): ReLU(inplace=True)\n",
              "  )\n",
              "  (conv_up0): Sequential(\n",
              "    (0): Conv2d(320, 128, kernel_size=(3, 3), stride=(1, 1), padding=(1, 1))\n",
              "    (1): ReLU(inplace=True)\n",
              "  )\n",
              "  (conv_original_size0): Sequential(\n",
              "    (0): Conv2d(3, 64, kernel_size=(3, 3), stride=(1, 1), padding=(1, 1))\n",
              "    (1): ReLU(inplace=True)\n",
              "  )\n",
              "  (conv_original_size1): Sequential(\n",
              "    (0): Conv2d(64, 64, kernel_size=(3, 3), stride=(1, 1), padding=(1, 1))\n",
              "    (1): ReLU(inplace=True)\n",
              "  )\n",
              "  (conv_original_size2): Sequential(\n",
              "    (0): Conv2d(192, 64, kernel_size=(3, 3), stride=(1, 1), padding=(1, 1))\n",
              "    (1): ReLU(inplace=True)\n",
              "  )\n",
              "  (conv_last): Conv2d(64, 2, kernel_size=(1, 1), stride=(1, 1))\n",
              ")"
            ]
          },
          "metadata": {},
          "execution_count": 59
        }
      ]
    },
    {
      "cell_type": "code",
      "metadata": {
        "id": "MoVYhHpbCSdY",
        "colab": {
          "base_uri": "https://localhost:8080/"
        },
        "outputId": "67d252c3-661a-4a83-8f2a-e64a5d8a1af2"
      },
      "source": [
        "from torchsummary import summary\n",
        "summary(model, input_size=(3, 224, 224))"
      ],
      "execution_count": 60,
      "outputs": [
        {
          "output_type": "stream",
          "name": "stdout",
          "text": [
            "----------------------------------------------------------------\n",
            "        Layer (type)               Output Shape         Param #\n",
            "================================================================\n",
            "            Conv2d-1         [-1, 64, 224, 224]           1,792\n",
            "              ReLU-2         [-1, 64, 224, 224]               0\n",
            "            Conv2d-3         [-1, 64, 224, 224]          36,928\n",
            "              ReLU-4         [-1, 64, 224, 224]               0\n",
            "            Conv2d-5         [-1, 64, 112, 112]           9,408\n",
            "            Conv2d-6         [-1, 64, 112, 112]           9,408\n",
            "       BatchNorm2d-7         [-1, 64, 112, 112]             128\n",
            "       BatchNorm2d-8         [-1, 64, 112, 112]             128\n",
            "              ReLU-9         [-1, 64, 112, 112]               0\n",
            "             ReLU-10         [-1, 64, 112, 112]               0\n",
            "        MaxPool2d-11           [-1, 64, 56, 56]               0\n",
            "        MaxPool2d-12           [-1, 64, 56, 56]               0\n",
            "           Conv2d-13           [-1, 64, 56, 56]          36,864\n",
            "           Conv2d-14           [-1, 64, 56, 56]          36,864\n",
            "      BatchNorm2d-15           [-1, 64, 56, 56]             128\n",
            "      BatchNorm2d-16           [-1, 64, 56, 56]             128\n",
            "             ReLU-17           [-1, 64, 56, 56]               0\n",
            "             ReLU-18           [-1, 64, 56, 56]               0\n",
            "           Conv2d-19           [-1, 64, 56, 56]          36,864\n",
            "           Conv2d-20           [-1, 64, 56, 56]          36,864\n",
            "      BatchNorm2d-21           [-1, 64, 56, 56]             128\n",
            "      BatchNorm2d-22           [-1, 64, 56, 56]             128\n",
            "             ReLU-23           [-1, 64, 56, 56]               0\n",
            "             ReLU-24           [-1, 64, 56, 56]               0\n",
            "       BasicBlock-25           [-1, 64, 56, 56]               0\n",
            "       BasicBlock-26           [-1, 64, 56, 56]               0\n",
            "           Conv2d-27           [-1, 64, 56, 56]          36,864\n",
            "           Conv2d-28           [-1, 64, 56, 56]          36,864\n",
            "      BatchNorm2d-29           [-1, 64, 56, 56]             128\n",
            "      BatchNorm2d-30           [-1, 64, 56, 56]             128\n",
            "             ReLU-31           [-1, 64, 56, 56]               0\n",
            "             ReLU-32           [-1, 64, 56, 56]               0\n",
            "           Conv2d-33           [-1, 64, 56, 56]          36,864\n",
            "           Conv2d-34           [-1, 64, 56, 56]          36,864\n",
            "      BatchNorm2d-35           [-1, 64, 56, 56]             128\n",
            "      BatchNorm2d-36           [-1, 64, 56, 56]             128\n",
            "             ReLU-37           [-1, 64, 56, 56]               0\n",
            "             ReLU-38           [-1, 64, 56, 56]               0\n",
            "       BasicBlock-39           [-1, 64, 56, 56]               0\n",
            "       BasicBlock-40           [-1, 64, 56, 56]               0\n",
            "           Conv2d-41          [-1, 128, 28, 28]          73,728\n",
            "           Conv2d-42          [-1, 128, 28, 28]          73,728\n",
            "      BatchNorm2d-43          [-1, 128, 28, 28]             256\n",
            "      BatchNorm2d-44          [-1, 128, 28, 28]             256\n",
            "             ReLU-45          [-1, 128, 28, 28]               0\n",
            "             ReLU-46          [-1, 128, 28, 28]               0\n",
            "           Conv2d-47          [-1, 128, 28, 28]         147,456\n",
            "           Conv2d-48          [-1, 128, 28, 28]         147,456\n",
            "      BatchNorm2d-49          [-1, 128, 28, 28]             256\n",
            "      BatchNorm2d-50          [-1, 128, 28, 28]             256\n",
            "           Conv2d-51          [-1, 128, 28, 28]           8,192\n",
            "           Conv2d-52          [-1, 128, 28, 28]           8,192\n",
            "      BatchNorm2d-53          [-1, 128, 28, 28]             256\n",
            "      BatchNorm2d-54          [-1, 128, 28, 28]             256\n",
            "             ReLU-55          [-1, 128, 28, 28]               0\n",
            "             ReLU-56          [-1, 128, 28, 28]               0\n",
            "       BasicBlock-57          [-1, 128, 28, 28]               0\n",
            "       BasicBlock-58          [-1, 128, 28, 28]               0\n",
            "           Conv2d-59          [-1, 128, 28, 28]         147,456\n",
            "           Conv2d-60          [-1, 128, 28, 28]         147,456\n",
            "      BatchNorm2d-61          [-1, 128, 28, 28]             256\n",
            "      BatchNorm2d-62          [-1, 128, 28, 28]             256\n",
            "             ReLU-63          [-1, 128, 28, 28]               0\n",
            "             ReLU-64          [-1, 128, 28, 28]               0\n",
            "           Conv2d-65          [-1, 128, 28, 28]         147,456\n",
            "           Conv2d-66          [-1, 128, 28, 28]         147,456\n",
            "      BatchNorm2d-67          [-1, 128, 28, 28]             256\n",
            "      BatchNorm2d-68          [-1, 128, 28, 28]             256\n",
            "             ReLU-69          [-1, 128, 28, 28]               0\n",
            "             ReLU-70          [-1, 128, 28, 28]               0\n",
            "       BasicBlock-71          [-1, 128, 28, 28]               0\n",
            "       BasicBlock-72          [-1, 128, 28, 28]               0\n",
            "           Conv2d-73          [-1, 256, 14, 14]         294,912\n",
            "           Conv2d-74          [-1, 256, 14, 14]         294,912\n",
            "      BatchNorm2d-75          [-1, 256, 14, 14]             512\n",
            "      BatchNorm2d-76          [-1, 256, 14, 14]             512\n",
            "             ReLU-77          [-1, 256, 14, 14]               0\n",
            "             ReLU-78          [-1, 256, 14, 14]               0\n",
            "           Conv2d-79          [-1, 256, 14, 14]         589,824\n",
            "           Conv2d-80          [-1, 256, 14, 14]         589,824\n",
            "      BatchNorm2d-81          [-1, 256, 14, 14]             512\n",
            "      BatchNorm2d-82          [-1, 256, 14, 14]             512\n",
            "           Conv2d-83          [-1, 256, 14, 14]          32,768\n",
            "           Conv2d-84          [-1, 256, 14, 14]          32,768\n",
            "      BatchNorm2d-85          [-1, 256, 14, 14]             512\n",
            "      BatchNorm2d-86          [-1, 256, 14, 14]             512\n",
            "             ReLU-87          [-1, 256, 14, 14]               0\n",
            "             ReLU-88          [-1, 256, 14, 14]               0\n",
            "       BasicBlock-89          [-1, 256, 14, 14]               0\n",
            "       BasicBlock-90          [-1, 256, 14, 14]               0\n",
            "           Conv2d-91          [-1, 256, 14, 14]         589,824\n",
            "           Conv2d-92          [-1, 256, 14, 14]         589,824\n",
            "      BatchNorm2d-93          [-1, 256, 14, 14]             512\n",
            "      BatchNorm2d-94          [-1, 256, 14, 14]             512\n",
            "             ReLU-95          [-1, 256, 14, 14]               0\n",
            "             ReLU-96          [-1, 256, 14, 14]               0\n",
            "           Conv2d-97          [-1, 256, 14, 14]         589,824\n",
            "           Conv2d-98          [-1, 256, 14, 14]         589,824\n",
            "      BatchNorm2d-99          [-1, 256, 14, 14]             512\n",
            "     BatchNorm2d-100          [-1, 256, 14, 14]             512\n",
            "            ReLU-101          [-1, 256, 14, 14]               0\n",
            "            ReLU-102          [-1, 256, 14, 14]               0\n",
            "      BasicBlock-103          [-1, 256, 14, 14]               0\n",
            "      BasicBlock-104          [-1, 256, 14, 14]               0\n",
            "          Conv2d-105            [-1, 512, 7, 7]       1,179,648\n",
            "          Conv2d-106            [-1, 512, 7, 7]       1,179,648\n",
            "     BatchNorm2d-107            [-1, 512, 7, 7]           1,024\n",
            "     BatchNorm2d-108            [-1, 512, 7, 7]           1,024\n",
            "            ReLU-109            [-1, 512, 7, 7]               0\n",
            "            ReLU-110            [-1, 512, 7, 7]               0\n",
            "          Conv2d-111            [-1, 512, 7, 7]       2,359,296\n",
            "          Conv2d-112            [-1, 512, 7, 7]       2,359,296\n",
            "     BatchNorm2d-113            [-1, 512, 7, 7]           1,024\n",
            "     BatchNorm2d-114            [-1, 512, 7, 7]           1,024\n",
            "          Conv2d-115            [-1, 512, 7, 7]         131,072\n",
            "          Conv2d-116            [-1, 512, 7, 7]         131,072\n",
            "     BatchNorm2d-117            [-1, 512, 7, 7]           1,024\n",
            "     BatchNorm2d-118            [-1, 512, 7, 7]           1,024\n",
            "            ReLU-119            [-1, 512, 7, 7]               0\n",
            "            ReLU-120            [-1, 512, 7, 7]               0\n",
            "      BasicBlock-121            [-1, 512, 7, 7]               0\n",
            "      BasicBlock-122            [-1, 512, 7, 7]               0\n",
            "          Conv2d-123            [-1, 512, 7, 7]       2,359,296\n",
            "          Conv2d-124            [-1, 512, 7, 7]       2,359,296\n",
            "     BatchNorm2d-125            [-1, 512, 7, 7]           1,024\n",
            "     BatchNorm2d-126            [-1, 512, 7, 7]           1,024\n",
            "            ReLU-127            [-1, 512, 7, 7]               0\n",
            "            ReLU-128            [-1, 512, 7, 7]               0\n",
            "          Conv2d-129            [-1, 512, 7, 7]       2,359,296\n",
            "          Conv2d-130            [-1, 512, 7, 7]       2,359,296\n",
            "     BatchNorm2d-131            [-1, 512, 7, 7]           1,024\n",
            "     BatchNorm2d-132            [-1, 512, 7, 7]           1,024\n",
            "            ReLU-133            [-1, 512, 7, 7]               0\n",
            "            ReLU-134            [-1, 512, 7, 7]               0\n",
            "      BasicBlock-135            [-1, 512, 7, 7]               0\n",
            "      BasicBlock-136            [-1, 512, 7, 7]               0\n",
            "          Conv2d-137            [-1, 512, 7, 7]         262,656\n",
            "            ReLU-138            [-1, 512, 7, 7]               0\n",
            "        Upsample-139          [-1, 512, 14, 14]               0\n",
            "          Conv2d-140          [-1, 256, 14, 14]          65,792\n",
            "            ReLU-141          [-1, 256, 14, 14]               0\n",
            "          Conv2d-142          [-1, 512, 14, 14]       3,539,456\n",
            "            ReLU-143          [-1, 512, 14, 14]               0\n",
            "        Upsample-144          [-1, 512, 28, 28]               0\n",
            "          Conv2d-145          [-1, 128, 28, 28]          16,512\n",
            "            ReLU-146          [-1, 128, 28, 28]               0\n",
            "          Conv2d-147          [-1, 256, 28, 28]       1,474,816\n",
            "            ReLU-148          [-1, 256, 28, 28]               0\n",
            "        Upsample-149          [-1, 256, 56, 56]               0\n",
            "          Conv2d-150           [-1, 64, 56, 56]           4,160\n",
            "            ReLU-151           [-1, 64, 56, 56]               0\n",
            "          Conv2d-152          [-1, 256, 56, 56]         737,536\n",
            "            ReLU-153          [-1, 256, 56, 56]               0\n",
            "        Upsample-154        [-1, 256, 112, 112]               0\n",
            "          Conv2d-155         [-1, 64, 112, 112]           4,160\n",
            "            ReLU-156         [-1, 64, 112, 112]               0\n",
            "          Conv2d-157        [-1, 128, 112, 112]         368,768\n",
            "            ReLU-158        [-1, 128, 112, 112]               0\n",
            "        Upsample-159        [-1, 128, 224, 224]               0\n",
            "          Conv2d-160         [-1, 64, 224, 224]         110,656\n",
            "            ReLU-161         [-1, 64, 224, 224]               0\n",
            "          Conv2d-162          [-1, 2, 224, 224]             130\n",
            "================================================================\n",
            "Total params: 28,976,386\n",
            "Trainable params: 28,976,386\n",
            "Non-trainable params: 0\n",
            "----------------------------------------------------------------\n",
            "Input size (MB): 0.57\n",
            "Forward/backward pass size (MB): 416.12\n",
            "Params size (MB): 110.54\n",
            "Estimated Total Size (MB): 527.23\n",
            "----------------------------------------------------------------\n"
          ]
        }
      ]
    },
    {
      "cell_type": "markdown",
      "metadata": {
        "id": "H7rAEQCUEI2v"
      },
      "source": [
        "# Define the main training loop"
      ]
    },
    {
      "cell_type": "code",
      "metadata": {
        "id": "tjt9JeTuDY6D"
      },
      "source": [
        "from collections import defaultdict\n",
        "import torch.nn.functional as F\n",
        "from loss import dice_loss\n",
        "\n",
        "checkpoint_path = \"checkpoint.pth\"\n",
        "\n",
        "def calc_loss(pred, target, metrics, bce_weight=0.5):\n",
        "    bce = F.binary_cross_entropy_with_logits(pred, target)\n",
        "\n",
        "    pred = torch.sigmoid(pred)\n",
        "    dice = dice_loss(pred, target)\n",
        "\n",
        "    loss = bce * bce_weight + dice * (1 - bce_weight)\n",
        "\n",
        "    metrics['bce'] += bce.data.cpu().numpy() * target.size(0)\n",
        "    metrics['dice'] += dice.data.cpu().numpy() * target.size(0)\n",
        "    metrics['loss'] += loss.data.cpu().numpy() * target.size(0)\n",
        "\n",
        "    return loss\n",
        "\n",
        "def print_metrics(metrics, epoch_samples, phase):\n",
        "    outputs = []\n",
        "    for k in metrics.keys():\n",
        "        outputs.append(\"{}: {:4f}\".format(k, metrics[k] / epoch_samples))\n",
        "\n",
        "    print(\"{}: {}\".format(phase, \", \".join(outputs)))\n",
        "\n",
        "def train_model(model, optimizer, scheduler, num_epochs=25):\n",
        "    best_loss = 1e10\n",
        "\n",
        "    for epoch in range(num_epochs):\n",
        "        print('Epoch {}/{}'.format(epoch, num_epochs - 1))\n",
        "        print('-' * 10)\n",
        "\n",
        "        since = time.time()\n",
        "\n",
        "        # Each epoch has a training and validation phase\n",
        "        for phase in ['train', 'val']:\n",
        "            if phase == 'train':\n",
        "                model.train()  # Set model to training mode\n",
        "            else:\n",
        "                model.eval()   # Set model to evaluate mode\n",
        "\n",
        "            metrics = defaultdict(float)\n",
        "            epoch_samples = 0\n",
        "\n",
        "            for inputs, labels in dataloaders[phase]:\n",
        "                inputs = inputs.to(device)\n",
        "                labels = labels.to(device)\n",
        "\n",
        "                # zero the parameter gradients\n",
        "                optimizer.zero_grad()\n",
        "\n",
        "                # forward\n",
        "                # track history if only in train\n",
        "                with torch.set_grad_enabled(phase == 'train'):\n",
        "                    outputs = model(inputs)\n",
        "                    loss = calc_loss(outputs, labels, metrics)\n",
        "\n",
        "                    # backward + optimize only if in training phase\n",
        "                    if phase == 'train':\n",
        "                        loss.backward()\n",
        "                        optimizer.step()\n",
        "\n",
        "                # statistics\n",
        "                epoch_samples += inputs.size(0)\n",
        "\n",
        "            print_metrics(metrics, epoch_samples, phase)\n",
        "            epoch_loss = metrics['loss'] / epoch_samples\n",
        "\n",
        "            if phase == 'train':\n",
        "              scheduler.step()\n",
        "              for param_group in optimizer.param_groups:\n",
        "                  print(\"LR\", param_group['lr'])\n",
        "\n",
        "            # save the model weights\n",
        "            if phase == 'val' and epoch_loss < best_loss:\n",
        "                print(f\"saving best model to {checkpoint_path}\")\n",
        "                best_loss = epoch_loss\n",
        "                torch.save(model.state_dict(), checkpoint_path)\n",
        "\n",
        "        time_elapsed = time.time() - since\n",
        "        print('{:.0f}m {:.0f}s'.format(time_elapsed // 60, time_elapsed % 60))\n",
        "\n",
        "    print('Best val loss: {:4f}'.format(best_loss))\n",
        "\n",
        "    # load best model weights\n",
        "    model.load_state_dict(torch.load(checkpoint_path))\n",
        "    return model"
      ],
      "execution_count": 61,
      "outputs": []
    },
    {
      "cell_type": "markdown",
      "metadata": {
        "id": "adcdAu9ZEOLG"
      },
      "source": [
        "## Training"
      ]
    },
    {
      "cell_type": "code",
      "metadata": {
        "id": "RfxgL303EMiy",
        "colab": {
          "base_uri": "https://localhost:8080/"
        },
        "outputId": "097a98fb-dc7e-4045-eb09-cf6a6e208339"
      },
      "source": [
        "import torch\n",
        "import torch.optim as optim\n",
        "from torch.optim import lr_scheduler\n",
        "import time\n",
        "\n",
        "num_class = 2\n",
        "model = ResNetUNet(num_class).to(device)\n",
        "\n",
        "# freeze backbone layers\n",
        "for l in model.base_layers:\n",
        "  for param in l.parameters():\n",
        "    param.requires_grad = False\n",
        "\n",
        "optimizer_ft = optim.Adam(filter(lambda p: p.requires_grad, model.parameters()), lr=1e-4)\n",
        "\n",
        "exp_lr_scheduler = lr_scheduler.StepLR(optimizer_ft, step_size=8, gamma=0.1)\n",
        "\n",
        "model = train_model(model, optimizer_ft, exp_lr_scheduler, num_epochs=10)"
      ],
      "execution_count": 62,
      "outputs": [
        {
          "output_type": "stream",
          "name": "stdout",
          "text": [
            "Epoch 0/9\n",
            "----------\n",
            "train: bce: 0.719785, dice: 0.669154, loss: 0.694469\n",
            "LR 0.0001\n",
            "val: bce: 0.656921, dice: 0.653335, loss: 0.655128\n",
            "saving best model to checkpoint.pth\n",
            "0m 1s\n",
            "Epoch 1/9\n",
            "----------\n",
            "train: bce: 0.639479, dice: 0.648710, loss: 0.644094\n",
            "LR 0.0001\n",
            "val: bce: 0.524512, dice: 0.618110, loss: 0.571311\n",
            "saving best model to checkpoint.pth\n",
            "0m 1s\n",
            "Epoch 2/9\n",
            "----------\n",
            "train: bce: 0.467708, dice: 0.602249, loss: 0.534978\n",
            "LR 0.0001\n",
            "val: bce: 0.261461, dice: 0.547638, loss: 0.404550\n",
            "saving best model to checkpoint.pth\n",
            "0m 1s\n",
            "Epoch 3/9\n",
            "----------\n",
            "train: bce: 0.192405, dice: 0.532077, loss: 0.362241\n",
            "LR 0.0001\n",
            "val: bce: 0.054604, dice: 0.505965, loss: 0.280284\n",
            "saving best model to checkpoint.pth\n",
            "0m 1s\n",
            "Epoch 4/9\n",
            "----------\n",
            "train: bce: 0.044687, dice: 0.503934, loss: 0.274310\n",
            "LR 0.0001\n",
            "val: bce: 0.028989, dice: 0.499390, loss: 0.264190\n",
            "saving best model to checkpoint.pth\n",
            "0m 1s\n",
            "Epoch 5/9\n",
            "----------\n",
            "train: bce: 0.036478, dice: 0.498947, loss: 0.267712\n",
            "LR 0.0001\n",
            "val: bce: 0.045858, dice: 0.495025, loss: 0.270441\n",
            "0m 1s\n",
            "Epoch 6/9\n",
            "----------\n",
            "train: bce: 0.057406, dice: 0.495263, loss: 0.276334\n",
            "LR 0.0001\n",
            "val: bce: 0.068253, dice: 0.490867, loss: 0.279560\n",
            "0m 1s\n",
            "Epoch 7/9\n",
            "----------\n",
            "train: bce: 0.078008, dice: 0.491827, loss: 0.284917\n",
            "LR 1e-05\n",
            "val: bce: 0.085961, dice: 0.488840, loss: 0.287401\n",
            "0m 1s\n",
            "Epoch 8/9\n",
            "----------\n",
            "train: bce: 0.090823, dice: 0.490135, loss: 0.290479\n",
            "LR 1e-05\n",
            "val: bce: 0.090112, dice: 0.488836, loss: 0.289474\n",
            "0m 1s\n",
            "Epoch 9/9\n",
            "----------\n",
            "train: bce: 0.091707, dice: 0.490084, loss: 0.290895\n",
            "LR 1e-05\n",
            "val: bce: 0.092110, dice: 0.489120, loss: 0.290615\n",
            "0m 1s\n",
            "Best val loss: 0.264190\n"
          ]
        }
      ]
    },
    {
      "cell_type": "markdown",
      "metadata": {
        "id": "lcRgjfk5D-kP"
      },
      "source": [
        "## Predict new images using the trained model"
      ]
    },
    {
      "cell_type": "code",
      "metadata": {
        "id": "xXRtpxHRET-v",
        "colab": {
          "base_uri": "https://localhost:8080/",
          "height": 68
        },
        "outputId": "3e1520e5-fec2-401d-dde2-8900b760f442"
      },
      "source": [
        "import math\n",
        "\n",
        "model.eval()   # Set model to the evaluation mode\n",
        "\n",
        "# Create a new simulation dataset for testing\n",
        "test_dataset = SimDataset(3, transform = trans)\n",
        "test_loader = DataLoader(test_dataset, batch_size=3, shuffle=False, num_workers=0)\n",
        "\n",
        "# Get the first batch\n",
        "inputs, labels = next(iter(test_loader))\n",
        "inputs = inputs.to(device)\n",
        "labels = labels.to(device)\n",
        "print('inputs.shape', inputs.shape)\n",
        "print('labels.shape', labels.shape)\n",
        "\n",
        "# Predict\n",
        "pred = model(inputs)\n",
        "# The loss functions include the sigmoid function.\n",
        "pred = torch.sigmoid(pred)\n",
        "pred = pred.data.cpu().numpy()\n",
        "print('pred.shape', pred.shape)\n",
        "\n",
        "# Change channel-order and make 3 channels for matplot\n",
        "input_images_rgb = [reverse_transform(x) for x in inputs.cpu()]\n",
        "\n",
        "# Map each channel (i.e. class) to each color\n",
        "target_masks_rgb = [helper.masks_to_colorimg(x) for x in labels.cpu().numpy()]\n",
        "pred_rgb = [helper.masks_to_colorimg(x) for x in pred]"
      ],
      "execution_count": null,
      "outputs": [
        {
          "output_type": "stream",
          "text": [
            "inputs.shape torch.Size([3, 3, 192, 192])\n",
            "labels.shape torch.Size([3, 6, 192, 192])\n",
            "pred.shape (3, 6, 192, 192)\n"
          ],
          "name": "stdout"
        }
      ]
    },
    {
      "cell_type": "markdown",
      "metadata": {
        "id": "XPQyJc4YD39T"
      },
      "source": [
        "## Left: Input image, Middle: Correct mask (Ground-truth), Rigth: Predicted mask"
      ]
    },
    {
      "cell_type": "code",
      "metadata": {
        "id": "z6dkJZLBCv4t",
        "colab": {
          "base_uri": "https://localhost:8080/",
          "height": 704
        },
        "outputId": "7029cb1c-8210-4278-ca11-c6fa92954056"
      },
      "source": [
        "helper.plot_side_by_side([input_images_rgb, target_masks_rgb, pred_rgb])"
      ],
      "execution_count": null,
      "outputs": [
        {
          "output_type": "display_data",
          "data": {
            "image/png": "[encoded data removed]",
            "text/plain": [
              "<Figure size 864x864 with 9 Axes>"
            ]
          },
          "metadata": {
            "tags": [],
            "needs_background": "light"
          }
        }
      ]
    },
    {
      "cell_type": "code",
      "metadata": {
        "id": "Wsfxcw0-DZdn"
      },
      "source": [],
      "execution_count": null,
      "outputs": []
    },
    {
      "cell_type": "markdown",
      "metadata": {
        "id": "JPG4VNTnFr3p"
      },
      "source": [
        "## Next steps\n",
        "\n",
        "Try tweaking the hyper-parameters for better accuracy e.g.\n",
        "\n",
        "- learning rates and schedules\n",
        "- loss weights\n",
        "- unfreezing layers\n",
        "- batch size\n",
        "- etc."
      ]
    },
    {
      "cell_type": "code",
      "metadata": {
        "id": "7VHV2fS4GRd-"
      },
      "source": [],
      "execution_count": null,
      "outputs": []
    }
  ]
}